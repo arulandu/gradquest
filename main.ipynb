{
 "cells": [
  {
   "cell_type": "markdown",
   "metadata": {},
   "source": [
    "# Quantum Gradient Estimation\n",
    "CDKMRippleCarryAdder. https://arxiv.org/pdf/quant-ph/0405146"
   ]
  },
  {
   "cell_type": "code",
   "execution_count": 55,
   "metadata": {},
   "outputs": [],
   "source": [
    "import qiskit\n",
    "import numpy as np\n",
    "from matplotlib import pyplot as plt\n",
    "\n",
    "from qiskit.circuit.library import CDKMRippleCarryAdder, DraperQFTAdder, QFT\n",
    "from qiskit import QuantumCircuit, transpile, assemble, ClassicalRegister, QuantumRegister\n",
    "from qiskit.visualization import plot_histogram"
   ]
  },
  {
   "cell_type": "markdown",
   "metadata": {},
   "source": [
    "Now we consider the quantum case. It suffices to show\n",
    "how to perform a quantum gradient estimation at x =\n",
    "0, since the gradient at other points can be obtained\n",
    "by trivially redefining f . To estimate the gradient at\n",
    "the origin, start with d input registers of n qubits each,\n",
    "plus a single output register of no qubits, all initialized\n",
    "to zero. Perform the Hadamard transform on the input\n",
    "registers, write the value 1 into the output register and\n",
    "then perform an inverse Fourier transform on it. This\n",
    "yields the superposition\n",
    "\n",
    "Next, use the blackbox to compute f and add it modulo No into the output register. The output register is an\n",
    "eigenstate of addition modulo No. The eigenvalue corresponding to addition of x is ei2πx/No . Thus by writing\n",
    "into the output register via modular addition, we obtain\n",
    "a phase proportional to f . This technique is sometimes\n",
    "called phase kickback. The resulting state is\n",
    "\n",
    "Fourier transform each of the registers, obtaining"
   ]
  },
  {
   "cell_type": "code",
   "execution_count": 92,
   "metadata": {},
   "outputs": [],
   "source": [
    "n, n0, d = 2, 2, 2\n",
    "x0 = [0, 0]\n",
    "f = lambda x : x[0]"
   ]
  },
  {
   "cell_type": "code",
   "execution_count": 114,
   "metadata": {},
   "outputs": [],
   "source": [
    "input_regs = []\n",
    "for i in range(d):\n",
    "  reg = QuantumRegister(n, 'input register ' + str(i))\n",
    "  input_regs.append(reg)\n",
    "\n",
    "carry_reg = QuantumRegister(1)\n",
    "output_reg = QuantumRegister(n0)\n",
    "enc_reg = QuantumRegister(n0)\n",
    "cregs = [ClassicalRegister(n) for _ in range(d)]\n",
    "registers = [input_regs, output_reg]\n",
    "\n",
    "qc = QuantumCircuit(*input_regs, output_reg, enc_reg, carry_reg, *cregs)\n",
    "\n",
    "# hadamard input\n",
    "for r in input_regs:\n",
    "  for q in r: \n",
    "    qc.h(q)\n",
    "    \n",
    "# set output to 1\n",
    "qc.x(output_reg[0])\n",
    "\n",
    "# IQFT (input + output)\n",
    "qc = qc.compose(QFT(n*d+n0, inverse=True), qubits=[*[q for r in input_regs for q in r], *output_reg])\n",
    "\n",
    "# add f(x0) into ouptut [mod 2^n0] \n",
    "v = f(x0) % (2**n0)\n",
    "# v = 3\n",
    "for i,c in enumerate(bin(v)[::-1][:n0]):\n",
    "  if c == '1':\n",
    "    qc.x(enc_reg[i])\n",
    "qc = qc.compose(CDKMRippleCarryAdder(n0, kind=\"fixed\"), qubits=[carry_reg[0], *enc_reg, *output_reg])\n",
    "\n",
    "# qc.swap(enc_reg, input_regs[0])\n",
    "\n",
    "# QFT\n",
    "qc = qc.compose(QFT(n*d+n0))\n",
    "\n",
    "# q\n",
    "for i in range(d):\n",
    "  qc.measure(input_regs[i], cregs[i]) \n",
    "\n",
    "qc.draw('mpl')"
   ]
  },
  {
   "cell_type": "code",
   "execution_count": 112,
   "metadata": {},
   "outputs": [],
   "source": [
    "from qiskit_aer import AerSimulator, StatevectorSimulator\n",
    "simulator = StatevectorSimulator()\n",
    "\n",
    "circ = transpile(qc, simulator)\n",
    "# job = execute(qc, simulator, shots=1024)\n",
    "# result = job.result()\n",
    "\n",
    "result = simulator.run(circ, shots=2**14).result()\n",
    "counts = result.get_counts(circ)"
   ]
  },
  {
   "cell_type": "code",
   "execution_count": 113,
   "metadata": {},
   "outputs": [],
   "source": [
    "sorted([(c, counts[c]) for c in counts], key=lambda x: -x[1])"
   ]
  },
  {
   "cell_type": "code",
   "execution_count": 76,
   "metadata": {},
   "outputs": [],
   "source": [
    "from qiskit import QuantumCircuit, QuantumRegister, ClassicalRegister\n",
    "from qiskit.circuit.library import QFT\n",
    "\n",
    "# Parameters\n",
    "n = 4  # Number of qubits in the quantum register (defines the bit-length)\n",
    "classical_value = 5  # The classical integer to add to the quantum register\n",
    "\n",
    "# Initialize quantum and classical registers\n",
    "quantum_reg = QuantumRegister(n, 'q')\n",
    "classical_reg = ClassicalRegister(n, 'c')\n",
    "qc = QuantumCircuit(quantum_reg, classical_reg)\n",
    "\n",
    "# Prepare the quantum register in a known initial state, e.g., |3⟩ (binary '0011')\n",
    "initial_value = 3\n",
    "for i in range(n):\n",
    "    if (initial_value >> i) & 1:\n",
    "        qc.x(quantum_reg[i])  # Set qubit i if the corresponding bit in `initial_value` is 1\n",
    "\n",
    "# Step 1: Apply QFT to put the quantum register in the frequency domain\n",
    "qc.append(QFT(n).to_instruction(), quantum_reg)\n",
    "\n",
    "# Step 2: Apply controlled phase rotations based on the classical value\n",
    "for i in range(n):\n",
    "    angle = (2 * np.pi * ((classical_value >> i) & 1)) / (2 ** (i + 1))\n",
    "    if angle != 0:\n",
    "        qc.p(angle, quantum_reg[i])\n",
    "\n",
    "# Step 3: Apply the inverse QFT to complete the addition\n",
    "qc.append(QFT(n, inverse=True).to_instruction(), quantum_reg)\n",
    "\n",
    "# Measure the quantum register to get the result\n",
    "qc.measure(quantum_reg, classical_reg)\n",
    "\n",
    "# Simulate and get the results\n",
    "simulator = AerSimulator()\n",
    "\n",
    "circ = transpile(qc, simulator)\n",
    "# job = execute(qc, simulator, shots=1024)\n",
    "# result = job.result()\n",
    "\n",
    "result = simulator.run(circ, shots=2**14).result()\n",
    "counts = result.get_counts(circ)\n",
    "print(\"Result of addition:\", counts)\n",
    "\n",
    "# Draw the circuit\n",
    "qc.draw('mpl')"
   ]
  },
  {
   "cell_type": "code",
   "execution_count": null,
   "metadata": {},
   "outputs": [],
   "source": []
  }
 ],
 "metadata": {
  "kernelspec": {
   "display_name": "quantum",
   "language": "python",
   "name": "python3"
  },
  "language_info": {
   "codemirror_mode": {
    "name": "ipython",
    "version": 3
   },
   "file_extension": ".py",
   "mimetype": "text/x-python",
   "name": "python",
   "nbconvert_exporter": "python",
   "pygments_lexer": "ipython3",
   "version": "3.12.7"
  }
 },
 "nbformat": 4,
 "nbformat_minor": 2
}
